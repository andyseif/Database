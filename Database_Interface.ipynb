{
 "cells": [
  {
   "cell_type": "code",
   "execution_count": 1,
   "metadata": {},
   "outputs": [
    {
     "name": "stderr",
     "output_type": "stream",
     "text": [
      "C:\\ProgramData\\Anaconda3\\lib\\site-packages\\h5py\\__init__.py:36: FutureWarning: Conversion of the second argument of issubdtype from `float` to `np.floating` is deprecated. In future, it will be treated as `np.float64 == np.dtype(float).type`.\n",
      "  from ._conv import register_converters as _register_converters\n"
     ]
    }
   ],
   "source": [
    "import ipywidgets as widgets\n",
    "import h5py\n",
    "import pandas as pd"
   ]
  },
  {
   "cell_type": "code",
   "execution_count": 2,
   "metadata": {},
   "outputs": [],
   "source": [
    "fileName_new = 'I:/1005.091 RVT PG&E/TimeHistoryDatabase/Database.hdf5'\n",
    "fn = h5py.File(fileName_new,'r')\n",
    "earthqaukes = list(fn.keys())"
   ]
  },
  {
   "cell_type": "code",
   "execution_count": 3,
   "metadata": {},
   "outputs": [],
   "source": [
    "site_catalog = pd.read_csv('Site_catalog.csv')"
   ]
  },
  {
   "cell_type": "code",
   "execution_count": 4,
   "metadata": {},
   "outputs": [],
   "source": [
    "# Date\n",
    "# source latitude\n",
    "# source longitude\n",
    "# site latitide\n",
    "# site longitude\n",
    "# M(in bold)\n",
    "# Rrup\n",
    "# Rjb\n",
    "# Repi\n",
    "# Vs30\n",
    "w = widgets.Text(\n",
    "    value='',\n",
    "    placeholder='constraint1: value1-value2,constraint2: value1-value2',\n",
    "    description='Search criteria:',\n",
    "    disabled=False\n",
    ")\n",
    "z = widgets.Text(\n",
    "    value='',\n",
    "    placeholder='columns',\n",
    "    description='CSV fields:',\n",
    "    disabled=False\n",
    ")\n",
    "EW1 = widgets.ToggleButton(\n",
    "    value=False,\n",
    "    description='EW1',\n",
    "    disabled=False,\n",
    "    button_style='', # 'success', 'info', 'warning', 'danger' or ''\n",
    "    tooltip='Description',\n",
    "    icon='check'\n",
    ")\n",
    "NS1 = widgets.ToggleButton(\n",
    "    value=False,\n",
    "    description='NS1',\n",
    "    disabled=False,\n",
    "    button_style='', # 'success', 'info', 'warning', 'danger' or ''\n",
    "    tooltip='Description',\n",
    "    icon='check'\n",
    ")\n",
    "\n",
    "EW2 = widgets.ToggleButton(\n",
    "    value=False,\n",
    "    description='EW2',\n",
    "    disabled=False,\n",
    "    button_style='', # 'success', 'info', 'warning', 'danger' or ''\n",
    "    tooltip='Description',\n",
    "    icon='check'\n",
    ")\n",
    "\n",
    "NS2 = widgets.ToggleButton(\n",
    "    value=False,\n",
    "    description='NS2',\n",
    "    disabled=False,\n",
    "    button_style='', # 'success', 'info', 'warning', 'danger' or ''\n",
    "    tooltip='Description',\n",
    "    icon='check'\n",
    ")\n"
   ]
  },
  {
   "cell_type": "code",
   "execution_count": 5,
   "metadata": {},
   "outputs": [
    {
     "name": "stdout",
     "output_type": "stream",
     "text": [
      "Available attributes of ground motions:\n",
      "55\n",
      "recordDate\n",
      "originTime\n",
      "direction\n",
      "durationTime\n",
      "originDate\n",
      "lastCorrectionDate\n",
      "scaleFactor\n",
      "samplingFreq\n",
      "lon\n",
      "lat\n",
      "mag\n",
      "depth\n",
      "stationCode\n",
      "stationLat\n",
      "stationLon\n",
      "snr\n",
      "fLow\n",
      "fHigh\n",
      "pga\n",
      "Ia\n",
      "D5_75\n",
      "D5_75_sorted\n",
      "D20_80\n",
      "repi_literature\n",
      "rhypo_literature\n",
      "rjb_literature\n",
      "rrup_literature\n",
      "rx_literature\n",
      "magnitude_literature\n",
      "ry_literature\n",
      "ry0_literature\n",
      "U_literature\n",
      "T_literature\n",
      "name_literature\n",
      "Ztor_literature\n",
      "Origin_day_\n",
      "Origin_Time_\n",
      "Latitude_\n",
      "Longitude_\n",
      "JMA_Depth_\n",
      "JMA_Magnitude_\n",
      "Region_Name_\n",
      "Strike_\n",
      "Dip_\n",
      "Rake_\n",
      "Mo_\n",
      "MT_Depth_\n",
      "MT_Magnitude_\n",
      "Var_Red_\n",
      "Unit_\n",
      "Number_of_Stations_\n",
      "Tectonic_Zhoa_\n",
      "Tectonic_Garcia_\n",
      "Focal_mechanism_Garcia_\n",
      "Focal_mechanism_kegan_\n"
     ]
    },
    {
     "data": {
      "application/vnd.jupyter.widget-view+json": {
       "model_id": "4cb84c419448469da92b08b9dcea261c",
       "version_major": 2,
       "version_minor": 0
      },
      "text/plain": [
       "Text(value='', description='Search criteria:', placeholder='constraint1: value1-value2,constraint2: value1-val…"
      ]
     },
     "metadata": {},
     "output_type": "display_data"
    },
    {
     "data": {
      "application/vnd.jupyter.widget-view+json": {
       "model_id": "5f1c5496cb394bc79dd3f8a77923751b",
       "version_major": 2,
       "version_minor": 0
      },
      "text/plain": [
       "Text(value='', description='CSV fields:', placeholder='columns')"
      ]
     },
     "metadata": {},
     "output_type": "display_data"
    },
    {
     "data": {
      "application/vnd.jupyter.widget-view+json": {
       "model_id": "3135debb48a54211a1da893b4bf84184",
       "version_major": 2,
       "version_minor": 0
      },
      "text/plain": [
       "ToggleButton(value=False, description='EW1', icon='check', tooltip='Description')"
      ]
     },
     "metadata": {},
     "output_type": "display_data"
    },
    {
     "data": {
      "application/vnd.jupyter.widget-view+json": {
       "model_id": "25753c2322bc4d0a962bd2e7d5e2ef09",
       "version_major": 2,
       "version_minor": 0
      },
      "text/plain": [
       "ToggleButton(value=False, description='NS1', icon='check', tooltip='Description')"
      ]
     },
     "metadata": {},
     "output_type": "display_data"
    },
    {
     "data": {
      "application/vnd.jupyter.widget-view+json": {
       "model_id": "fdf51ef10c894a8b940256a5e3236363",
       "version_major": 2,
       "version_minor": 0
      },
      "text/plain": [
       "ToggleButton(value=False, description='EW2', icon='check', tooltip='Description')"
      ]
     },
     "metadata": {},
     "output_type": "display_data"
    },
    {
     "data": {
      "application/vnd.jupyter.widget-view+json": {
       "model_id": "592b5f0d7db944b6954589426b3bbee7",
       "version_major": 2,
       "version_minor": 0
      },
      "text/plain": [
       "ToggleButton(value=False, description='NS2', icon='check', tooltip='Description')"
      ]
     },
     "metadata": {},
     "output_type": "display_data"
    }
   ],
   "source": [
    "print('Available attributes of ground motions:')\n",
    "stations = list(fn[earthqaukes[5458]].keys())\n",
    "available_attributes = list(fn[earthqaukes[5458]][stations[0]]['EW1']['processed'].attrs.keys())# Here I choose a ground motion and get all the information\n",
    "print(len(available_attributes))\n",
    "for key in available_attributes:\n",
    "    print(key)\n",
    "display(w)\n",
    "display(z)\n",
    "display(EW1)\n",
    "display(NS1)\n",
    "display(EW2)\n",
    "display(NS2)"
   ]
  },
  {
   "cell_type": "code",
   "execution_count": 6,
   "metadata": {},
   "outputs": [
    {
     "data": {
      "text/plain": [
       "['EW1', 'NS1', 'EW2', 'NS2']"
      ]
     },
     "execution_count": 6,
     "metadata": {},
     "output_type": "execute_result"
    }
   ],
   "source": [
    "directions = []\n",
    "direction_dependant = ['snr', 'fLow', 'fHigh', 'pga', 'Ia', 'D5_75', 'D5_75_sorted', 'D20_80']\n",
    "if EW1.value:\n",
    "    directions.append('EW1')\n",
    "if NS1.value:\n",
    "    directions.append('NS1')\n",
    "if EW2.value:\n",
    "    directions.append('EW2')\n",
    "if NS2.value:\n",
    "    directions.append('NS2')\n",
    "directions"
   ]
  },
  {
   "cell_type": "code",
   "execution_count": 7,
   "metadata": {},
   "outputs": [],
   "source": [
    "constraints = w.value\n",
    "columns = z.value.split(\",\")"
   ]
  },
  {
   "cell_type": "code",
   "execution_count": 8,
   "metadata": {},
   "outputs": [],
   "source": [
    "constraints = constraints.split(\",\")"
   ]
  },
  {
   "cell_type": "code",
   "execution_count": 9,
   "metadata": {},
   "outputs": [
    {
     "name": "stdout",
     "output_type": "stream",
     "text": [
      "snr: 0.6-1.1\n"
     ]
    }
   ],
   "source": [
    "constraint_dic = {}\n",
    "\n",
    "for constraint in constraints:\n",
    "    print(constraint)\n",
    "    constraint = constraint.split(\":\")\n",
    "    name = constraint[0]\n",
    "    value = constraint[1]\n",
    "    value = value.split(\"-\")\n",
    "    value_float = [float(value[0]),float(value[1])]\n",
    "    constraint_dic[name] = value_float"
   ]
  },
  {
   "cell_type": "code",
   "execution_count": 10,
   "metadata": {},
   "outputs": [
    {
     "data": {
      "text/plain": [
       "{'snr': [0.6, 1.1]}"
      ]
     },
     "execution_count": 10,
     "metadata": {},
     "output_type": "execute_result"
    }
   ],
   "source": [
    "constraint\n",
    "constraint_dic"
   ]
  },
  {
   "cell_type": "code",
   "execution_count": 11,
   "metadata": {},
   "outputs": [],
   "source": [
    "import numpy\n"
   ]
  },
  {
   "cell_type": "code",
   "execution_count": 12,
   "metadata": {},
   "outputs": [
    {
     "data": {
      "text/plain": [
       "'Record code,lon,lat,stationLat,stationLon,pga_EW1,pga_NS1,pga_EW2,pga_NS2,Ia_EW1,Ia_NS1,Ia_EW2,Ia_NS2,D5_75_EW1,D5_75_NS1,D5_75_EW2,D5_75_NS2,D5_75_sorted_EW1,D5_75_sorted_NS1,D5_75_sorted_EW2,D5_75_sorted_NS2,D20_80_EW1,D20_80_NS1,D20_80_EW2,D20_80_NS2,rrup_literature,rrup_0,rrup_1,Ztor_literature,Ztor_0,Ztor_1,magnitude_literature,name_literature,Focal_mechanism_kegan_,Tectonic_Garcia_,snr_EW1,snr_NS1,snr_EW2,snr_NS2'"
      ]
     },
     "execution_count": 12,
     "metadata": {},
     "output_type": "execute_result"
    }
   ],
   "source": [
    "my_str = 'Record code'\n",
    "for column in columns:\n",
    "    if column in direction_dependant:\n",
    "        for direction in directions:\n",
    "            my_str = my_str + ',' +column+'_'+direction \n",
    "    else:\n",
    "        my_str = my_str + ',' +column\n",
    "my_str"
   ]
  },
  {
   "cell_type": "code",
   "execution_count": 13,
   "metadata": {},
   "outputs": [],
   "source": [
    "file = open('Arias_Intensity.csv','w+')\n",
    "file.write(my_str+'\\n') \n",
    "for earthquake in earthqaukes:\n",
    "    g = fn[earthquake]\n",
    "    stations = list(g.keys())\n",
    "    for station in stations:\n",
    "        try:\n",
    "            GM_keys = list(g[station]['EW1']['processed'].attrs.keys())\n",
    "        except KeyError:\n",
    "            print(station + ' is corrupted')\n",
    "            continue\n",
    "        Have_conditions = 1\n",
    "        for contraint_key in list(constraint_dic.keys()):\n",
    "            if contraint_key in GM_keys:\n",
    "                if ~(constraint_dic[contraint_key][0]<g[station]['EW1']['processed'].attrs[contraint_key] and\n",
    "                    constraint_dic[contraint_key][1]>g[station]['EW1']['processed'].attrs[contraint_key]):\n",
    "                    Have_conditions = 0 \n",
    "                    break\n",
    "            else:\n",
    "                Have_conditions = 0\n",
    "                break\n",
    "        if Have_conditions:\n",
    "            my_str = str(station)\n",
    "            for column in columns:\n",
    "                if column in direction_dependant:\n",
    "                    for direction in directions:\n",
    "                        try:\n",
    "                            a = g[station][direction]['processed'].attrs[column]\n",
    "                        except KeyError:\n",
    "                            a = 'NAN'\n",
    "                        if isinstance(a,str):\n",
    "                            a = a\n",
    "                        elif isinstance(a,float) or isinstance(a,numpy.int64):\n",
    "                            a = str(a)\n",
    "                        elif isinstance(a,numpy.ndarray):\n",
    "                            a = a[0]\n",
    "                            if isinstance(a,float):\n",
    "                                a = str(a)\n",
    "                            else:\n",
    "                                a = a.decode()\n",
    "                        my_str = my_str + ',' + a\n",
    "                elif column in site_catalog:\n",
    "                    try:\n",
    "                        a = site_catalog[site_catalog['Station code'].str.contains(station[:6])].iloc[0][column]\n",
    "                        a = str(a)\n",
    "                    except IndexError:\n",
    "                        a = 'NAN'\n",
    "                    my_str = my_str + ',' + a\n",
    "\n",
    "                else:\n",
    "                    try:\n",
    "                        a = g[station]['EW1']['processed'].attrs[column]\n",
    "\n",
    "                    except KeyError:\n",
    "                        a = 'NAN'\n",
    "                    if isinstance(a,str):\n",
    "                        a = a\n",
    "                    elif isinstance(a,float) or isinstance(a,numpy.int64):\n",
    "                        a = str(a)\n",
    "                    elif isinstance(a,numpy.ndarray):\n",
    "                        a = a[0]\n",
    "                        if isinstance(a,float):\n",
    "                            a = str(a)\n",
    "                        else:\n",
    "                            a = a.decode()\n",
    "                    my_str = my_str + ',' + a\n",
    "\n",
    "\n",
    "                \n",
    "            file.write(my_str+'\\n')\n",
    "file.close()\n",
    "#fn.close()"
   ]
  },
  {
   "cell_type": "code",
   "execution_count": null,
   "metadata": {},
   "outputs": [],
   "source": [
    "fn.close()"
   ]
  },
  {
   "cell_type": "code",
   "execution_count": 40,
   "metadata": {},
   "outputs": [
    {
     "data": {
      "text/plain": [
       "'20110311144600'"
      ]
     },
     "execution_count": 40,
     "metadata": {},
     "output_type": "execute_result"
    }
   ],
   "source": [
    "earthqaukes[5458]"
   ]
  },
  {
   "cell_type": "code",
   "execution_count": null,
   "metadata": {},
   "outputs": [],
   "source": [
    "site_catalog"
   ]
  }
 ],
 "metadata": {
  "kernelspec": {
   "display_name": "Python 3",
   "language": "python",
   "name": "python3"
  },
  "language_info": {
   "codemirror_mode": {
    "name": "ipython",
    "version": 3
   },
   "file_extension": ".py",
   "mimetype": "text/x-python",
   "name": "python",
   "nbconvert_exporter": "python",
   "pygments_lexer": "ipython3",
   "version": "3.6.5"
  }
 },
 "nbformat": 4,
 "nbformat_minor": 2
}
